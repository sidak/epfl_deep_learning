{
 "cells": [
  {
   "cell_type": "code",
   "execution_count": 1,
   "metadata": {},
   "outputs": [],
   "source": [
    "import numpy as np"
   ]
  },
  {
   "cell_type": "code",
   "execution_count": 3,
   "metadata": {},
   "outputs": [],
   "source": [
    "from torch import Tensor"
   ]
  },
  {
   "cell_type": "code",
   "execution_count": 5,
   "metadata": {},
   "outputs": [],
   "source": [
    "dim = 13\n",
    "x = Tensor(dim, dim)"
   ]
  },
  {
   "cell_type": "code",
   "execution_count": 7,
   "metadata": {},
   "outputs": [
    {
     "data": {
      "text/plain": [
       "torch.Size([13, 13])"
      ]
     },
     "execution_count": 7,
     "metadata": {},
     "output_type": "execute_result"
    }
   ],
   "source": [
    "x.shape"
   ]
  },
  {
   "cell_type": "code",
   "execution_count": 8,
   "metadata": {},
   "outputs": [
    {
     "data": {
      "text/plain": [
       "\n",
       "    1     1     1     1     1     1     1     1     1     1     1     1     1\n",
       "    1     1     1     1     1     1     1     1     1     1     1     1     1\n",
       "    1     1     1     1     1     1     1     1     1     1     1     1     1\n",
       "    1     1     1     1     1     1     1     1     1     1     1     1     1\n",
       "    1     1     1     1     1     1     1     1     1     1     1     1     1\n",
       "    1     1     1     1     1     1     1     1     1     1     1     1     1\n",
       "    1     1     1     1     1     1     1     1     1     1     1     1     1\n",
       "    1     1     1     1     1     1     1     1     1     1     1     1     1\n",
       "    1     1     1     1     1     1     1     1     1     1     1     1     1\n",
       "    1     1     1     1     1     1     1     1     1     1     1     1     1\n",
       "    1     1     1     1     1     1     1     1     1     1     1     1     1\n",
       "    1     1     1     1     1     1     1     1     1     1     1     1     1\n",
       "    1     1     1     1     1     1     1     1     1     1     1     1     1\n",
       "[torch.FloatTensor of size 13x13]"
      ]
     },
     "execution_count": 8,
     "metadata": {},
     "output_type": "execute_result"
    }
   ],
   "source": [
    "x.fill_(1)"
   ]
  },
  {
   "cell_type": "code",
   "execution_count": 28,
   "metadata": {},
   "outputs": [
    {
     "data": {
      "text/plain": [
       "\n",
       "    1     1     1     1     1     1     1     1     1     1     1     1     1\n",
       "    1     1     1     1     1     1     1     1     1     1     1     1     1\n",
       "    1     1     1     1     1     1     1     1     1     1     1     1     1\n",
       "    1     1     1     1     1     1     1     1     1     1     1     1     1\n",
       "    1     1     1     1     1     1     1     1     1     1     1     1     1\n",
       "    1     1     1     1     1     1     1     1     1     1     1     1     1\n",
       "    1     1     1     1     1     1     1     1     1     1     1     1     1\n",
       "    1     1     1     1     1     1     1     1     1     1     1     1     1\n",
       "    1     1     1     1     1     1     1     1     1     1     1     1     1\n",
       "    1     1     1     1     1     1     1     1     1     1     1     1     1\n",
       "    1     1     1     1     1     1     1     1     1     1     1     1     1\n",
       "    1     1     1     1     1     1     1     1     1     1     1     1     1\n",
       "    1     1     1     1     1     1     1     1     1     1     1     1     1\n",
       "[torch.FloatTensor of size 13x13]"
      ]
     },
     "execution_count": 28,
     "metadata": {},
     "output_type": "execute_result"
    }
   ],
   "source": [
    "x"
   ]
  },
  {
   "cell_type": "code",
   "execution_count": 29,
   "metadata": {},
   "outputs": [
    {
     "data": {
      "text/plain": [
       "\n",
       "    2\n",
       "    2\n",
       "    2\n",
       "    2\n",
       "    2\n",
       "    2\n",
       "    2\n",
       "    2\n",
       "    2\n",
       "    2\n",
       "    2\n",
       "    2\n",
       "    2\n",
       "[torch.FloatTensor of size 13x1]"
      ]
     },
     "execution_count": 29,
     "metadata": {},
     "output_type": "execute_result"
    }
   ],
   "source": [
    "x.narrow(1, 1, 1).fill_(2)"
   ]
  },
  {
   "cell_type": "code",
   "execution_count": 35,
   "metadata": {},
   "outputs": [
    {
     "data": {
      "text/plain": [
       "\n",
       " 3  3\n",
       " 3  3\n",
       "[torch.FloatTensor of size 2x2]"
      ]
     },
     "execution_count": 35,
     "metadata": {},
     "output_type": "execute_result"
    }
   ],
   "source": [
    "x.narrow(0,3, 2).narrow(1, 3, 2).fill_(3)"
   ]
  },
  {
   "cell_type": "code",
   "execution_count": 36,
   "metadata": {},
   "outputs": [
    {
     "data": {
      "text/plain": [
       "\n",
       "    1     2     1     1     1     1     1     1     1     1     1     1     1\n",
       "    1     2     1     1     1     1     1     1     1     1     1     1     1\n",
       "    1     2     1     1     1     1     1     1     1     1     1     1     1\n",
       "    1     2     1     3     3     1     1     1     1     1     1     1     1\n",
       "    1     2     1     3     3     1     1     1     1     1     1     1     1\n",
       "    1     2     1     1     1     1     1     1     1     1     1     1     1\n",
       "    1     2     1     1     1     1     1     1     1     1     1     1     1\n",
       "    1     2     1     1     1     1     1     1     1     1     1     1     1\n",
       "    1     2     1     1     1     1     1     1     1     1     1     1     1\n",
       "    1     2     1     1     1     1     1     1     1     1     1     1     1\n",
       "    1     2     1     1     1     1     1     1     1     1     1     1     1\n",
       "    1     2     1     1     1     1     1     1     1     1     1     1     1\n",
       "    1     2     1     1     1     1     1     1     1     1     1     1     1\n",
       "[torch.FloatTensor of size 13x13]"
      ]
     },
     "execution_count": 36,
     "metadata": {},
     "output_type": "execute_result"
    }
   ],
   "source": [
    "x"
   ]
  },
  {
   "cell_type": "code",
   "execution_count": 37,
   "metadata": {},
   "outputs": [
    {
     "data": {
      "text/plain": [
       "\n",
       "    2\n",
       "    2\n",
       "    2\n",
       "    2\n",
       "    2\n",
       "    2\n",
       "    2\n",
       "    2\n",
       "    2\n",
       "    2\n",
       "    2\n",
       "    2\n",
       "    2\n",
       "[torch.FloatTensor of size 13x1]"
      ]
     },
     "execution_count": 37,
     "metadata": {},
     "output_type": "execute_result"
    }
   ],
   "source": [
    "x.narrow(1, 6, 1).fill_(2)"
   ]
  },
  {
   "cell_type": "code",
   "execution_count": 38,
   "metadata": {},
   "outputs": [
    {
     "data": {
      "text/plain": [
       "\n",
       "    1     2     1     1     1     1     2     1     1     1     1     1     1\n",
       "    1     2     1     1     1     1     2     1     1     1     1     1     1\n",
       "    1     2     1     1     1     1     2     1     1     1     1     1     1\n",
       "    1     2     1     3     3     1     2     1     1     1     1     1     1\n",
       "    1     2     1     3     3     1     2     1     1     1     1     1     1\n",
       "    1     2     1     1     1     1     2     1     1     1     1     1     1\n",
       "    1     2     1     1     1     1     2     1     1     1     1     1     1\n",
       "    1     2     1     1     1     1     2     1     1     1     1     1     1\n",
       "    1     2     1     1     1     1     2     1     1     1     1     1     1\n",
       "    1     2     1     1     1     1     2     1     1     1     1     1     1\n",
       "    1     2     1     1     1     1     2     1     1     1     1     1     1\n",
       "    1     2     1     1     1     1     2     1     1     1     1     1     1\n",
       "    1     2     1     1     1     1     2     1     1     1     1     1     1\n",
       "[torch.FloatTensor of size 13x13]"
      ]
     },
     "execution_count": 38,
     "metadata": {},
     "output_type": "execute_result"
    }
   ],
   "source": [
    "x"
   ]
  },
  {
   "cell_type": "code",
   "execution_count": 39,
   "metadata": {},
   "outputs": [
    {
     "data": {
      "text/plain": [
       "\n",
       "    2\n",
       "    2\n",
       "    2\n",
       "    2\n",
       "    2\n",
       "    2\n",
       "    2\n",
       "    2\n",
       "    2\n",
       "    2\n",
       "    2\n",
       "    2\n",
       "    2\n",
       "[torch.FloatTensor of size 13x1]"
      ]
     },
     "execution_count": 39,
     "metadata": {},
     "output_type": "execute_result"
    }
   ],
   "source": [
    "x.narrow(1, 11, 1).fill_(2)"
   ]
  },
  {
   "cell_type": "code",
   "execution_count": 40,
   "metadata": {},
   "outputs": [
    {
     "data": {
      "text/plain": [
       "\n",
       "    1     2     1     1     1     1     2     1     1     1     1     2     1\n",
       "    1     2     1     1     1     1     2     1     1     1     1     2     1\n",
       "    1     2     1     1     1     1     2     1     1     1     1     2     1\n",
       "    1     2     1     3     3     1     2     1     1     1     1     2     1\n",
       "    1     2     1     3     3     1     2     1     1     1     1     2     1\n",
       "    1     2     1     1     1     1     2     1     1     1     1     2     1\n",
       "    1     2     1     1     1     1     2     1     1     1     1     2     1\n",
       "    1     2     1     1     1     1     2     1     1     1     1     2     1\n",
       "    1     2     1     1     1     1     2     1     1     1     1     2     1\n",
       "    1     2     1     1     1     1     2     1     1     1     1     2     1\n",
       "    1     2     1     1     1     1     2     1     1     1     1     2     1\n",
       "    1     2     1     1     1     1     2     1     1     1     1     2     1\n",
       "    1     2     1     1     1     1     2     1     1     1     1     2     1\n",
       "[torch.FloatTensor of size 13x13]"
      ]
     },
     "execution_count": 40,
     "metadata": {},
     "output_type": "execute_result"
    }
   ],
   "source": [
    "x"
   ]
  },
  {
   "cell_type": "code",
   "execution_count": 41,
   "metadata": {},
   "outputs": [
    {
     "data": {
      "text/plain": [
       "\n",
       "    2     2     2     2     2     2     2     2     2     2     2     2     2\n",
       "[torch.FloatTensor of size 1x13]"
      ]
     },
     "execution_count": 41,
     "metadata": {},
     "output_type": "execute_result"
    }
   ],
   "source": [
    "x.narrow(0, 11, 1).fill_(2)"
   ]
  },
  {
   "cell_type": "code",
   "execution_count": 42,
   "metadata": {},
   "outputs": [
    {
     "data": {
      "text/plain": [
       "\n",
       "    1     2     1     1     1     1     2     1     1     1     1     2     1\n",
       "    1     2     1     1     1     1     2     1     1     1     1     2     1\n",
       "    1     2     1     1     1     1     2     1     1     1     1     2     1\n",
       "    1     2     1     3     3     1     2     1     1     1     1     2     1\n",
       "    1     2     1     3     3     1     2     1     1     1     1     2     1\n",
       "    1     2     1     1     1     1     2     1     1     1     1     2     1\n",
       "    1     2     1     1     1     1     2     1     1     1     1     2     1\n",
       "    1     2     1     1     1     1     2     1     1     1     1     2     1\n",
       "    1     2     1     1     1     1     2     1     1     1     1     2     1\n",
       "    1     2     1     1     1     1     2     1     1     1     1     2     1\n",
       "    1     2     1     1     1     1     2     1     1     1     1     2     1\n",
       "    2     2     2     2     2     2     2     2     2     2     2     2     2\n",
       "    1     2     1     1     1     1     2     1     1     1     1     2     1\n",
       "[torch.FloatTensor of size 13x13]"
      ]
     },
     "execution_count": 42,
     "metadata": {},
     "output_type": "execute_result"
    }
   ],
   "source": [
    "x"
   ]
  },
  {
   "cell_type": "code",
   "execution_count": 43,
   "metadata": {},
   "outputs": [
    {
     "data": {
      "text/plain": [
       "\n",
       "    2     2     2     2     2     2     2     2     2     2     2     2     2\n",
       "[torch.FloatTensor of size 1x13]"
      ]
     },
     "execution_count": 43,
     "metadata": {},
     "output_type": "execute_result"
    }
   ],
   "source": [
    "x.narrow(0, 6, 1).fill_(2)"
   ]
  },
  {
   "cell_type": "code",
   "execution_count": 44,
   "metadata": {},
   "outputs": [
    {
     "data": {
      "text/plain": [
       "\n",
       "    1     2     1     1     1     1     2     1     1     1     1     2     1\n",
       "    1     2     1     1     1     1     2     1     1     1     1     2     1\n",
       "    1     2     1     1     1     1     2     1     1     1     1     2     1\n",
       "    1     2     1     3     3     1     2     1     1     1     1     2     1\n",
       "    1     2     1     3     3     1     2     1     1     1     1     2     1\n",
       "    1     2     1     1     1     1     2     1     1     1     1     2     1\n",
       "    2     2     2     2     2     2     2     2     2     2     2     2     2\n",
       "    1     2     1     1     1     1     2     1     1     1     1     2     1\n",
       "    1     2     1     1     1     1     2     1     1     1     1     2     1\n",
       "    1     2     1     1     1     1     2     1     1     1     1     2     1\n",
       "    1     2     1     1     1     1     2     1     1     1     1     2     1\n",
       "    2     2     2     2     2     2     2     2     2     2     2     2     2\n",
       "    1     2     1     1     1     1     2     1     1     1     1     2     1\n",
       "[torch.FloatTensor of size 13x13]"
      ]
     },
     "execution_count": 44,
     "metadata": {},
     "output_type": "execute_result"
    }
   ],
   "source": [
    "x"
   ]
  },
  {
   "cell_type": "code",
   "execution_count": 45,
   "metadata": {},
   "outputs": [
    {
     "data": {
      "text/plain": [
       "\n",
       "    2     2     2     2     2     2     2     2     2     2     2     2     2\n",
       "[torch.FloatTensor of size 1x13]"
      ]
     },
     "execution_count": 45,
     "metadata": {},
     "output_type": "execute_result"
    }
   ],
   "source": [
    "x.narrow(0, 1, 1).fill_(2)"
   ]
  },
  {
   "cell_type": "code",
   "execution_count": 46,
   "metadata": {},
   "outputs": [
    {
     "data": {
      "text/plain": [
       "\n",
       "    1     2     1     1     1     1     2     1     1     1     1     2     1\n",
       "    2     2     2     2     2     2     2     2     2     2     2     2     2\n",
       "    1     2     1     1     1     1     2     1     1     1     1     2     1\n",
       "    1     2     1     3     3     1     2     1     1     1     1     2     1\n",
       "    1     2     1     3     3     1     2     1     1     1     1     2     1\n",
       "    1     2     1     1     1     1     2     1     1     1     1     2     1\n",
       "    2     2     2     2     2     2     2     2     2     2     2     2     2\n",
       "    1     2     1     1     1     1     2     1     1     1     1     2     1\n",
       "    1     2     1     1     1     1     2     1     1     1     1     2     1\n",
       "    1     2     1     1     1     1     2     1     1     1     1     2     1\n",
       "    1     2     1     1     1     1     2     1     1     1     1     2     1\n",
       "    2     2     2     2     2     2     2     2     2     2     2     2     2\n",
       "    1     2     1     1     1     1     2     1     1     1     1     2     1\n",
       "[torch.FloatTensor of size 13x13]"
      ]
     },
     "execution_count": 46,
     "metadata": {},
     "output_type": "execute_result"
    }
   ],
   "source": [
    "x"
   ]
  },
  {
   "cell_type": "code",
   "execution_count": 47,
   "metadata": {},
   "outputs": [
    {
     "data": {
      "text/plain": [
       "\n",
       " 3  3\n",
       " 3  3\n",
       "[torch.FloatTensor of size 2x2]"
      ]
     },
     "execution_count": 47,
     "metadata": {},
     "output_type": "execute_result"
    }
   ],
   "source": [
    "x.narrow(0,3, 2).narrow(1, 8, 2).fill_(3)"
   ]
  },
  {
   "cell_type": "code",
   "execution_count": 48,
   "metadata": {},
   "outputs": [
    {
     "data": {
      "text/plain": [
       "\n",
       "    1     2     1     1     1     1     2     1     1     1     1     2     1\n",
       "    2     2     2     2     2     2     2     2     2     2     2     2     2\n",
       "    1     2     1     1     1     1     2     1     1     1     1     2     1\n",
       "    1     2     1     3     3     1     2     1     3     3     1     2     1\n",
       "    1     2     1     3     3     1     2     1     3     3     1     2     1\n",
       "    1     2     1     1     1     1     2     1     1     1     1     2     1\n",
       "    2     2     2     2     2     2     2     2     2     2     2     2     2\n",
       "    1     2     1     1     1     1     2     1     1     1     1     2     1\n",
       "    1     2     1     1     1     1     2     1     1     1     1     2     1\n",
       "    1     2     1     1     1     1     2     1     1     1     1     2     1\n",
       "    1     2     1     1     1     1     2     1     1     1     1     2     1\n",
       "    2     2     2     2     2     2     2     2     2     2     2     2     2\n",
       "    1     2     1     1     1     1     2     1     1     1     1     2     1\n",
       "[torch.FloatTensor of size 13x13]"
      ]
     },
     "execution_count": 48,
     "metadata": {},
     "output_type": "execute_result"
    }
   ],
   "source": [
    "x"
   ]
  },
  {
   "cell_type": "code",
   "execution_count": 49,
   "metadata": {},
   "outputs": [
    {
     "data": {
      "text/plain": [
       "\n",
       " 3  3\n",
       " 3  3\n",
       "[torch.FloatTensor of size 2x2]"
      ]
     },
     "execution_count": 49,
     "metadata": {},
     "output_type": "execute_result"
    }
   ],
   "source": [
    "x.narrow(0,8, 2).narrow(1, 8, 2).fill_(3)\n",
    "x.narrow(0,8, 2).narrow(1, 3, 2).fill_(3)"
   ]
  },
  {
   "cell_type": "code",
   "execution_count": 50,
   "metadata": {
    "scrolled": true
   },
   "outputs": [
    {
     "data": {
      "text/plain": [
       "\n",
       "    1     2     1     1     1     1     2     1     1     1     1     2     1\n",
       "    2     2     2     2     2     2     2     2     2     2     2     2     2\n",
       "    1     2     1     1     1     1     2     1     1     1     1     2     1\n",
       "    1     2     1     3     3     1     2     1     3     3     1     2     1\n",
       "    1     2     1     3     3     1     2     1     3     3     1     2     1\n",
       "    1     2     1     1     1     1     2     1     1     1     1     2     1\n",
       "    2     2     2     2     2     2     2     2     2     2     2     2     2\n",
       "    1     2     1     1     1     1     2     1     1     1     1     2     1\n",
       "    1     2     1     3     3     1     2     1     3     3     1     2     1\n",
       "    1     2     1     3     3     1     2     1     3     3     1     2     1\n",
       "    1     2     1     1     1     1     2     1     1     1     1     2     1\n",
       "    2     2     2     2     2     2     2     2     2     2     2     2     2\n",
       "    1     2     1     1     1     1     2     1     1     1     1     2     1\n",
       "[torch.FloatTensor of size 13x13]"
      ]
     },
     "execution_count": 50,
     "metadata": {},
     "output_type": "execute_result"
    }
   ],
   "source": [
    "x"
   ]
  },
  {
   "cell_type": "markdown",
   "metadata": {},
   "source": [
    "How to copy over symmetric matrix? \n",
    "How to copy from a subtensor?"
   ]
  },
  {
   "cell_type": "code",
   "execution_count": 57,
   "metadata": {},
   "outputs": [],
   "source": [
    "m = Tensor(20, 20)"
   ]
  },
  {
   "cell_type": "code",
   "execution_count": 59,
   "metadata": {
    "scrolled": true
   },
   "outputs": [
    {
     "data": {
      "text/plain": [
       "\n",
       "\n",
       "Columns 0 to 9 \n",
       " 0.7483  0.1100 -1.3280 -1.0814 -0.6133 -2.1904 -0.1933 -0.3800  0.7280  0.3466\n",
       "-1.0682  0.9430  1.3273  0.9994  0.1325 -2.1347 -1.3938 -0.1475 -0.7924 -1.5919\n",
       " 0.3256 -0.2043  1.0243  0.9335 -0.5293 -0.6194  0.8807 -0.0704 -0.6647 -0.1087\n",
       " 1.1284  0.1900  1.4556  0.6638  1.2808  0.0683  1.4368  1.1098 -0.9966 -0.6043\n",
       " 0.1667  1.5525 -0.6245 -0.0132  0.6700  0.4756 -0.7653 -0.5873  0.3099 -1.0634\n",
       " 1.1139 -0.8821 -0.5934 -0.1080  0.8381 -0.6983 -1.1233  0.2639 -0.7430  0.0720\n",
       "-0.7976  0.2993  1.1473  0.2869  0.6141 -1.4679 -1.2264  0.1164  0.8408 -1.4453\n",
       "-0.5058 -1.3529  0.7928 -0.7973  0.4697  0.4633 -1.5433  0.5470  0.4571 -1.4203\n",
       " 0.8267  1.6608 -0.9566 -2.1510  0.3349 -0.1398  0.1148  1.6319 -0.1203  1.8695\n",
       "-1.0712  1.1039  0.5944  0.6850  0.2507 -1.5075  1.3516 -1.1516 -0.0250 -0.2081\n",
       "-0.6438  0.4078 -0.2470 -0.8719  0.5470 -1.1846  1.4763 -0.9055  0.2670  1.1730\n",
       "-0.2785 -0.4669 -0.8495 -0.2185 -0.8551 -0.1118  1.6343  1.1253 -0.5099  0.0581\n",
       " 1.2014  0.7080  1.3780 -0.0205  0.5029 -0.7298  0.9025 -1.1754  0.4944  1.5611\n",
       " 0.4586  0.5626 -0.6437  0.2584 -0.6866  0.4776 -1.4920 -0.8648  0.6072 -0.8571\n",
       " 1.0888 -0.3050 -0.0445 -0.2710  0.0607  0.4127 -0.2406  0.3701  0.9181  1.3618\n",
       " 0.1322  1.6447  0.1543  0.6552 -1.4279 -1.0231 -0.4689  0.5463 -0.8969  0.3788\n",
       "-2.7390 -0.5826 -0.0638 -1.0808 -0.9518 -0.1487  2.3394 -0.3305 -1.3693 -0.0255\n",
       "-0.8136  0.8306  1.4044 -0.7046  0.3000 -1.6188 -0.1225  0.1854  0.1278 -1.0602\n",
       " 0.0928 -0.2359  0.6976 -1.7116 -0.3601 -1.1956 -0.1625  0.2704  1.5350  1.0246\n",
       "-1.3831  1.0075  0.5083  0.8034  1.9310 -0.6308 -0.0681  1.5252 -0.6257 -1.1288\n",
       "\n",
       "Columns 10 to 19 \n",
       "-0.3457 -1.3727  0.7306 -0.0787  0.7145  0.9944 -0.8618  0.0966 -0.6671 -0.8609\n",
       " 0.0348 -0.7380  1.5346  0.1362  1.3024  0.2588  0.0994 -1.5323  0.2259  0.6170\n",
       " 1.0541  0.4532 -2.2783  0.1711  0.1664  1.1296  0.1418 -0.2079  0.5226  1.2007\n",
       " 0.2187 -1.9819 -0.1099  1.2333  0.6208 -0.1117 -2.1420 -0.7128  0.7674  0.3771\n",
       " 0.4626  0.8904 -0.9992  0.9921 -0.5026 -2.0217 -1.9881  1.1596 -0.1678 -0.6232\n",
       " 1.9966  0.5262 -1.0100  0.5950 -0.9545  1.6738 -0.1117  0.0566 -0.1353  0.4653\n",
       "-1.6356 -0.5325 -0.3175 -1.2886 -0.9052 -0.7519 -1.1790 -0.5227 -1.0846  1.0079\n",
       " 0.3386 -0.3796 -0.7835  1.2553  0.0738  0.4894  1.8929  0.7841 -0.3191 -1.0427\n",
       "-0.1478  0.0145  0.4502  1.1071 -1.3537 -0.4897 -0.3867 -0.7724 -0.4039  0.0514\n",
       "-0.6128  1.3074 -1.6720  0.3037 -1.2531 -0.8074 -0.9595  0.4494 -0.0421 -0.4310\n",
       " 1.4969 -0.5391 -0.3295 -0.8587 -1.9272 -0.4378 -1.1864  0.0557 -0.1030 -1.1156\n",
       " 0.6523  0.4732 -0.4280  0.9516  0.1959  0.6595  2.1284 -1.3161 -1.3284  0.4134\n",
       "-0.4850 -0.5279  0.4939  0.7959 -0.9707 -0.0589  0.2079 -0.6587  1.8906 -0.2266\n",
       " 0.7794 -0.3018  0.4275 -1.6448 -1.1817  2.8204 -1.0162  1.1623  0.9045  0.6170\n",
       " 0.4113  1.4129 -0.0715  0.8131 -1.0626  0.4990  0.2236 -1.5334  0.0308  0.2699\n",
       "-0.4095  0.0111 -0.8923 -0.0465 -0.4270 -0.7518  1.1777  1.3068  0.1246 -1.2967\n",
       "-0.2938  1.0070 -0.7708  0.4059  0.1573  0.5853 -0.6309  0.3827  0.7553  0.4793\n",
       "-0.3414  0.7461 -0.5359 -1.9760  0.7604 -2.6459 -0.6908 -2.5223  0.1697  0.7422\n",
       "-1.4090 -1.2187 -0.2502  1.8213 -1.4678  0.2234  1.3966  0.8998 -0.7222  0.3595\n",
       "-0.8849  0.1407  2.7273 -1.7655  1.2661  1.3178  0.3256  0.7748  0.2548 -1.3816\n",
       "[torch.FloatTensor of size 20x20]"
      ]
     },
     "execution_count": 59,
     "metadata": {},
     "output_type": "execute_result"
    }
   ],
   "source": [
    "m.normal_()"
   ]
  },
  {
   "cell_type": "code",
   "execution_count": 64,
   "metadata": {},
   "outputs": [],
   "source": [
    "m_inv = m.inverse()"
   ]
  },
  {
   "cell_type": "code",
   "execution_count": 67,
   "metadata": {},
   "outputs": [],
   "source": [
    "d = torch.arange(1, 21)"
   ]
  },
  {
   "cell_type": "code",
   "execution_count": 71,
   "metadata": {},
   "outputs": [],
   "source": [
    "diag_d = d.diag()"
   ]
  },
  {
   "cell_type": "code",
   "execution_count": 73,
   "metadata": {},
   "outputs": [],
   "source": [
    "prod = m_inv.mm(diag_d.mm(m))"
   ]
  },
  {
   "cell_type": "code",
   "execution_count": 76,
   "metadata": {},
   "outputs": [],
   "source": [
    "eigenval, _ = prod.eig()"
   ]
  },
  {
   "cell_type": "code",
   "execution_count": 77,
   "metadata": {},
   "outputs": [
    {
     "data": {
      "text/plain": [
       "\n",
       " 20.0000   0.0000\n",
       "  1.0000   0.0000\n",
       "  2.0000   0.0000\n",
       "  3.0000   0.0000\n",
       "  4.0000   0.0000\n",
       "  5.0000   0.0000\n",
       " 19.0000   0.0000\n",
       "  6.0000   0.0000\n",
       " 18.0000   0.0000\n",
       " 17.0000   0.0000\n",
       "  7.0001   0.0000\n",
       "  8.0000   0.0000\n",
       " 16.0000   0.0000\n",
       "  9.0000   0.0000\n",
       " 15.0000   0.0000\n",
       " 10.0000   0.0000\n",
       " 14.0000   0.0000\n",
       " 11.0000   0.0000\n",
       " 13.0000   0.0000\n",
       " 12.0000   0.0000\n",
       "[torch.FloatTensor of size 20x2]"
      ]
     },
     "execution_count": 77,
     "metadata": {},
     "output_type": "execute_result"
    }
   ],
   "source": [
    "eigenval"
   ]
  },
  {
   "cell_type": "code",
   "execution_count": 78,
   "metadata": {},
   "outputs": [],
   "source": [
    "torch.eig?"
   ]
  },
  {
   "cell_type": "code",
   "execution_count": 79,
   "metadata": {},
   "outputs": [],
   "source": [
    "rot = Tensor(3, 3).fill_(0)"
   ]
  },
  {
   "cell_type": "code",
   "execution_count": 80,
   "metadata": {},
   "outputs": [],
   "source": [
    "rot[0, 1] = -1"
   ]
  },
  {
   "cell_type": "code",
   "execution_count": 82,
   "metadata": {},
   "outputs": [],
   "source": [
    "rot[1, 0] = 1"
   ]
  },
  {
   "cell_type": "code",
   "execution_count": 83,
   "metadata": {},
   "outputs": [],
   "source": [
    "rot[2, 2] = 1"
   ]
  },
  {
   "cell_type": "code",
   "execution_count": 84,
   "metadata": {},
   "outputs": [
    {
     "data": {
      "text/plain": [
       "\n",
       " 0 -1  0\n",
       " 1  0  0\n",
       " 0  0  1\n",
       "[torch.FloatTensor of size 3x3]"
      ]
     },
     "execution_count": 84,
     "metadata": {},
     "output_type": "execute_result"
    }
   ],
   "source": [
    "\n",
    "rot"
   ]
  },
  {
   "cell_type": "code",
   "execution_count": 85,
   "metadata": {},
   "outputs": [
    {
     "data": {
      "text/plain": [
       "(\n",
       "  0  1\n",
       "  0 -1\n",
       "  1  0\n",
       " [torch.FloatTensor of size 3x2], [torch.FloatTensor with no dimension])"
      ]
     },
     "execution_count": 85,
     "metadata": {},
     "output_type": "execute_result"
    }
   ],
   "source": [
    "rot.eig()"
   ]
  },
  {
   "cell_type": "markdown",
   "metadata": {},
   "source": [
    "Hence, the second column is to possible store the imaginary part of eigenvalues as they can be complex!\n"
   ]
  },
  {
   "cell_type": "code",
   "execution_count": 86,
   "metadata": {},
   "outputs": [],
   "source": [
    "import os\n",
    "try:\n",
    "    user_paths = os.environ['PYTHONPATH'].split(os.pathsep)\n",
    "except KeyError:\n",
    "    user_paths = []"
   ]
  },
  {
   "cell_type": "code",
   "execution_count": 87,
   "metadata": {},
   "outputs": [
    {
     "data": {
      "text/plain": [
       "['',\n",
       " '/mlodata1/sidak/anaconda/envs/python3.6/bin',\n",
       " '',\n",
       " '/mlodata1/sidak/anaconda/envs/python2.7/bin',\n",
       " '/mlodata1/sidak/anaconda/envs/python3.6/bin',\n",
       " '',\n",
       " '/mlodata1/sidak/anaconda/envs/python2.7/bin']"
      ]
     },
     "execution_count": 87,
     "metadata": {},
     "output_type": "execute_result"
    }
   ],
   "source": [
    "user_paths"
   ]
  },
  {
   "cell_type": "code",
   "execution_count": 88,
   "metadata": {},
   "outputs": [],
   "source": [
    "import time"
   ]
  },
  {
   "cell_type": "code",
   "execution_count": 96,
   "metadata": {},
   "outputs": [],
   "source": [
    "sq1 = Tensor(5000, 5000).normal_()"
   ]
  },
  {
   "cell_type": "code",
   "execution_count": 97,
   "metadata": {},
   "outputs": [],
   "source": [
    "sq2 = Tensor(5000, 5000).normal_()"
   ]
  },
  {
   "cell_type": "code",
   "execution_count": 98,
   "metadata": {},
   "outputs": [],
   "source": [
    "t0 = time.perf_counter()"
   ]
  },
  {
   "cell_type": "code",
   "execution_count": 99,
   "metadata": {},
   "outputs": [],
   "source": [
    "prod12 = sq1.mm(sq2)"
   ]
  },
  {
   "cell_type": "code",
   "execution_count": 100,
   "metadata": {},
   "outputs": [],
   "source": [
    "t1 = time.perf_counter()"
   ]
  },
  {
   "cell_type": "code",
   "execution_count": 101,
   "metadata": {},
   "outputs": [
    {
     "data": {
      "text/plain": [
       "29.18218118324876"
      ]
     },
     "execution_count": 101,
     "metadata": {},
     "output_type": "execute_result"
    }
   ],
   "source": [
    "t1-t0"
   ]
  },
  {
   "cell_type": "code",
   "execution_count": 106,
   "metadata": {},
   "outputs": [],
   "source": [
    "ops = 5000**3"
   ]
  },
  {
   "cell_type": "code",
   "execution_count": 107,
   "metadata": {},
   "outputs": [
    {
     "data": {
      "text/plain": [
       "125000000000"
      ]
     },
     "execution_count": 107,
     "metadata": {},
     "output_type": "execute_result"
    }
   ],
   "source": [
    "ops"
   ]
  },
  {
   "cell_type": "code",
   "execution_count": 108,
   "metadata": {},
   "outputs": [],
   "source": [
    "flops = ops/(t1-t0)"
   ]
  },
  {
   "cell_type": "code",
   "execution_count": 109,
   "metadata": {},
   "outputs": [
    {
     "data": {
      "text/plain": [
       "4283435813.62427"
      ]
     },
     "execution_count": 109,
     "metadata": {},
     "output_type": "execute_result"
    }
   ],
   "source": [
    "flops"
   ]
  },
  {
   "cell_type": "code",
   "execution_count": 110,
   "metadata": {},
   "outputs": [
    {
     "data": {
      "text/plain": [
       "4.28343581362427"
      ]
     },
     "execution_count": 110,
     "metadata": {},
     "output_type": "execute_result"
    }
   ],
   "source": [
    "flops/1e9"
   ]
  },
  {
   "cell_type": "code",
   "execution_count": 1,
   "metadata": {},
   "outputs": [],
   "source": [
    "import cudamat"
   ]
  },
  {
   "cell_type": "code",
   "execution_count": 4,
   "metadata": {},
   "outputs": [],
   "source": [
    "\n",
    "import numpy as np\n",
    "import ot\n",
    "import time\n",
    "import pytest\n",
    "\n",
    "try:  # test if cudamat installed\n",
    "    import ot.gpu\n",
    "    nogpu = False\n",
    "except ImportError:\n",
    "    nogpu = True\n",
    "\n",
    "\n",
    "@pytest.mark.skipif(nogpu, reason=\"No GPU available\")\n",
    "def test_gpu_sinkhorn():\n",
    "\n",
    "    rng = np.random.RandomState(0)\n",
    "\n",
    "    def describe_res(r):\n",
    "        print(\"min:{:.3E}, max::{:.3E}, mean::{:.3E}, std::{:.3E}\".format(\n",
    "            np.min(r), np.max(r), np.mean(r), np.std(r)))\n",
    "\n",
    "    for n_samples in [100, 500, 1000, 10000]:\n",
    "        print(n_samples)\n",
    "        a = rng.rand(n_samples // 4, 100)\n",
    "        b = rng.rand(n_samples, 100)\n",
    "        time1 = time.time()\n",
    "        transport = ot.da.OTDA_sinkhorn()\n",
    "        transport.fit(a, b)\n",
    "        G1 = transport.G\n",
    "        time2 = time.time()\n",
    "        transport = ot.gpu.da.OTDA_sinkhorn()\n",
    "        transport.fit(a, b)\n",
    "        G2 = transport.G\n",
    "        time3 = time.time()\n",
    "        print(\"Normal sinkhorn, time: {:6.2f} sec \".format(time2 - time1))\n",
    "        describe_res(G1)\n",
    "        print(\"   GPU sinkhorn, time: {:6.2f} sec \".format(time3 - time2))\n",
    "        describe_res(G2)\n",
    "\n",
    "        np.testing.assert_allclose(G1, G2, rtol=1e-5, atol=1e-5)\n"
   ]
  },
  {
   "cell_type": "code",
   "execution_count": 5,
   "metadata": {},
   "outputs": [
    {
     "name": "stdout",
     "output_type": "stream",
     "text": [
      "100\n",
      "Normal sinkhorn, time:   0.00 sec \n",
      "min:1.258E-07, max::6.955E-03, mean::4.000E-04, std::7.491E-04\n",
      "   GPU sinkhorn, time:   0.02 sec \n",
      "min:1.258E-07, max::6.955E-03, mean::4.000E-04, std::7.491E-04\n",
      "500\n",
      "Normal sinkhorn, time:   0.02 sec \n",
      "min:5.402E-10, max::1.476E-03, mean::1.600E-05, std::4.211E-05\n",
      "   GPU sinkhorn, time:   0.03 sec \n",
      "min:5.402E-10, max::1.476E-03, mean::1.600E-05, std::4.211E-05\n",
      "1000\n",
      "Normal sinkhorn, time:   0.04 sec \n",
      "min:3.399E-10, max::5.990E-04, mean::4.000E-06, std::1.153E-05\n",
      "   GPU sinkhorn, time:   0.03 sec \n",
      "min:3.399E-10, max::5.990E-04, mean::4.000E-06, std::1.153E-05\n",
      "10000\n",
      "Normal sinkhorn, time:   6.35 sec \n",
      "min:9.541E-13, max::3.964E-05, mean::4.000E-08, std::1.380E-07\n",
      "   GPU sinkhorn, time:   0.17 sec \n",
      "min:9.542E-13, max::3.964E-05, mean::4.000E-08, std::1.380E-07\n"
     ]
    }
   ],
   "source": [
    "test_gpu_sinkhorn()"
   ]
  },
  {
   "cell_type": "code",
   "execution_count": null,
   "metadata": {},
   "outputs": [],
   "source": []
  }
 ],
 "metadata": {
  "kernelspec": {
   "display_name": "Python 3",
   "language": "python",
   "name": "python3"
  },
  "language_info": {
   "codemirror_mode": {
    "name": "ipython",
    "version": 3
   },
   "file_extension": ".py",
   "mimetype": "text/x-python",
   "name": "python",
   "nbconvert_exporter": "python",
   "pygments_lexer": "ipython3",
   "version": "3.6.3"
  }
 },
 "nbformat": 4,
 "nbformat_minor": 2
}
