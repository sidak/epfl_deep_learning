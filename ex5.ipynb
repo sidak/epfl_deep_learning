{
 "cells": [
  {
   "cell_type": "code",
   "execution_count": 113,
   "metadata": {},
   "outputs": [],
   "source": [
    "import torch\n",
    "from torch.autograd import Variable\n",
    "from torch import nn\n"
   ]
  },
  {
   "cell_type": "code",
   "execution_count": 115,
   "metadata": {},
   "outputs": [],
   "source": [
    "from collections import OrderedDict"
   ]
  },
  {
   "cell_type": "code",
   "execution_count": 16,
   "metadata": {},
   "outputs": [],
   "source": [
    "import math"
   ]
  },
  {
   "cell_type": "code",
   "execution_count": 102,
   "metadata": {},
   "outputs": [],
   "source": [
    "def generate_disc_set(nb):\n",
    "    inp = torch.Tensor(nb, 2).uniform_(-1, 1)\n",
    "    tgt = torch.sum((inp**2), dim=1) <= (2.0/math.pi)\n",
    "    tgt = tgt.long()\n",
    "    return (inp, tgt)"
   ]
  },
  {
   "cell_type": "code",
   "execution_count": 103,
   "metadata": {},
   "outputs": [],
   "source": [
    "train_inp, train_tgt = generate_disc_set(1000)"
   ]
  },
  {
   "cell_type": "code",
   "execution_count": 104,
   "metadata": {},
   "outputs": [
    {
     "data": {
      "text/plain": [
       "(torch.Size([1000, 2]), torch.Size([1000]))"
      ]
     },
     "execution_count": 104,
     "metadata": {},
     "output_type": "execute_result"
    }
   ],
   "source": [
    "train_inp.shape, train_tgt.shape"
   ]
  },
  {
   "cell_type": "code",
   "execution_count": 105,
   "metadata": {},
   "outputs": [],
   "source": [
    "test_inp, test_tgt = generate_disc_set(1000)"
   ]
  },
  {
   "cell_type": "code",
   "execution_count": 106,
   "metadata": {},
   "outputs": [],
   "source": [
    "def normalize_data(tens):\n",
    "    tens_mean = tens.mean(dim=0)\n",
    "    tens_std = tens.std(dim=0)\n",
    "    return (tens - tens_mean)/tens_std\n",
    "    "
   ]
  },
  {
   "cell_type": "code",
   "execution_count": 107,
   "metadata": {},
   "outputs": [],
   "source": [
    "train_inp_normalized = normalize_data(train_inp)"
   ]
  },
  {
   "cell_type": "code",
   "execution_count": 108,
   "metadata": {},
   "outputs": [],
   "source": [
    "test_inp_normalized = normalize_data(test_inp)"
   ]
  },
  {
   "cell_type": "code",
   "execution_count": 109,
   "metadata": {},
   "outputs": [
    {
     "data": {
      "text/plain": [
       "(541, 459)"
      ]
     },
     "execution_count": 109,
     "metadata": {},
     "output_type": "execute_result"
    }
   ],
   "source": [
    "(train_tgt==1).long().sum(), (train_tgt==0).long().sum()"
   ]
  },
  {
   "cell_type": "code",
   "execution_count": 110,
   "metadata": {},
   "outputs": [
    {
     "data": {
      "text/plain": [
       "(472, 528)"
      ]
     },
     "execution_count": 110,
     "metadata": {},
     "output_type": "execute_result"
    }
   ],
   "source": [
    "(test_tgt==1).long().sum(), (test_tgt==0).long().sum()"
   ]
  },
  {
   "cell_type": "code",
   "execution_count": 111,
   "metadata": {},
   "outputs": [],
   "source": [
    "def train_model(model, train_input, train_target, eta=0.1, nb_epochs=250, batch_size=100):\n",
    "    optimizer = torch.optim.SGD(model.parameters(), lr = eta)\n",
    "    train_input = Variable(train_input)\n",
    "    train_target = Variable(train_target)\n",
    "    criterion = torch.nn.CrossEntropyLoss()\n",
    "    \n",
    "    for ep in range(nb_epochs):\n",
    "        for b in range(0, train_input.size(0), batch_size):\n",
    "            output = model(train_input.narrow(0, b, batch_size))\n",
    "            loss = criterion(output, train_target.narrow(0, b, batch_size))\n",
    "            model.zero_grad()\n",
    "            loss.backward()\n",
    "            optimizer.step()\n",
    "            \n",
    "    "
   ]
  },
  {
   "cell_type": "code",
   "execution_count": 112,
   "metadata": {},
   "outputs": [],
   "source": [
    "def compute_nb_errors(model, data_input, data_target, batch_size=100):\n",
    "    nb_error = 0.0\n",
    "    for b in range(0, data_input.size(0), batch_size):\n",
    "        data_output = model(data_input.narrow(0, b, batch_size))\n",
    "        data_ans = data_target.narrow(0, b, batch_size)\n",
    "        nb_error +=  (data_ans!=data_target).long().sum()\n",
    "    return nb_error"
   ]
  },
  {
   "cell_type": "code",
   "execution_count": 134,
   "metadata": {},
   "outputs": [],
   "source": [
    "def create_shallow_model(num_inp = 2, hidden_size = 128, num_out = 2):\n",
    "    return nn.Sequential(\n",
    "            nn.Linear(num_inp, hidden_size),\n",
    "            nn.ReLU(), \n",
    "            nn.Linear(hidden_size, num_out) \n",
    "    )"
   ]
  },
  {
   "cell_type": "code",
   "execution_count": 136,
   "metadata": {},
   "outputs": [],
   "source": [
    "def create_deep_model(num_inp = 2, hidden_size = [4, 8, 16, 32, 64, 128], num_out = 2):\n",
    "    layers = OrderedDict()\n",
    "    idx =0\n",
    "    relu_idx=0\n",
    "    layers[str(idx)] = nn.Linear(num_inp, hidden_size[0])\n",
    "    idx+=1\n",
    "    layers['relu'+ str(relu_idx)] = nn.ReLU()\n",
    "    relu_idx+=1\n",
    "    for hidx in range(len(hidden_size)-1):\n",
    "        layers[str(idx)] = nn.Linear(hidden_size[hidx], hidden_size[hidx+1])\n",
    "        idx+=1\n",
    "        layers['relu'+  str(relu_idx)] = nn.ReLU()\n",
    "        relu_idx+=1\n",
    "    layers[str(idx)] = nn.Linear(hidden_size[-1], num_out)\n",
    "    return nn.Sequential(layers)"
   ]
  },
  {
   "cell_type": "code",
   "execution_count": 137,
   "metadata": {},
   "outputs": [
    {
     "data": {
      "text/plain": [
       "Sequential(\n",
       "  (0): Linear(in_features=2, out_features=4)\n",
       "  (relu0): ReLU()\n",
       "  (1): Linear(in_features=4, out_features=8)\n",
       "  (relu1): ReLU()\n",
       "  (2): Linear(in_features=8, out_features=16)\n",
       "  (relu2): ReLU()\n",
       "  (3): Linear(in_features=16, out_features=32)\n",
       "  (relu3): ReLU()\n",
       "  (4): Linear(in_features=32, out_features=64)\n",
       "  (relu4): ReLU()\n",
       "  (5): Linear(in_features=64, out_features=128)\n",
       "  (relu5): ReLU()\n",
       "  (6): Linear(in_features=128, out_features=2)\n",
       ")"
      ]
     },
     "execution_count": 137,
     "metadata": {},
     "output_type": "execute_result"
    }
   ],
   "source": [
    "create_deep_model()"
   ]
  },
  {
   "cell_type": "code",
   "execution_count": 116,
   "metadata": {},
   "outputs": [],
   "source": [
    "layers = OrderedDict()"
   ]
  },
  {
   "cell_type": "code",
   "execution_count": 122,
   "metadata": {},
   "outputs": [
    {
     "data": {
      "text/plain": [
       "'1'"
      ]
     },
     "execution_count": 122,
     "metadata": {},
     "output_type": "execute_result"
    }
   ],
   "source": [
    "str(1)"
   ]
  },
  {
   "cell_type": "code",
   "execution_count": 120,
   "metadata": {},
   "outputs": [],
   "source": [
    "layers['conv1'] = nn.Conv1d(2, 4, 2)\n",
    "layers['conv2'] = nn.Conv1d(2, 4, 3)"
   ]
  },
  {
   "cell_type": "code",
   "execution_count": 121,
   "metadata": {},
   "outputs": [
    {
     "data": {
      "text/plain": [
       "OrderedDict([('conv', Conv1d (2, 4, kernel_size=(2,), stride=(1,))),\n",
       "             ('conv1', Conv1d (2, 4, kernel_size=(2,), stride=(1,))),\n",
       "             ('conv2', Conv1d (2, 4, kernel_size=(3,), stride=(1,)))])"
      ]
     },
     "execution_count": 121,
     "metadata": {},
     "output_type": "execute_result"
    }
   ],
   "source": [
    "layers"
   ]
  },
  {
   "cell_type": "code",
   "execution_count": null,
   "metadata": {},
   "outputs": [],
   "source": [
    "nn.Se"
   ]
  },
  {
   "cell_type": "code",
   "execution_count": 95,
   "metadata": {},
   "outputs": [],
   "source": [
    "tmp_var = Variable(tmp_tens)"
   ]
  },
  {
   "cell_type": "code",
   "execution_count": 96,
   "metadata": {},
   "outputs": [
    {
     "data": {
      "text/plain": [
       "Variable containing:\n",
       " 0  1  2\n",
       " 3  4  5\n",
       " 6  7  8\n",
       "[torch.FloatTensor of size 3x3]"
      ]
     },
     "execution_count": 96,
     "metadata": {},
     "output_type": "execute_result"
    }
   ],
   "source": [
    "tmp_var"
   ]
  },
  {
   "cell_type": "code",
   "execution_count": 101,
   "metadata": {},
   "outputs": [
    {
     "data": {
      "text/plain": [
       "Variable containing:\n",
       " 3  4  5\n",
       " 6  7  8\n",
       "[torch.FloatTensor of size 2x3]"
      ]
     },
     "execution_count": 101,
     "metadata": {},
     "output_type": "execute_result"
    }
   ],
   "source": [
    "tmp_var.narrow(0, 1, 2)"
   ]
  },
  {
   "cell_type": "code",
   "execution_count": null,
   "metadata": {},
   "outputs": [],
   "source": []
  }
 ],
 "metadata": {
  "kernelspec": {
   "display_name": "Python 3",
   "language": "python",
   "name": "python3"
  },
  "language_info": {
   "codemirror_mode": {
    "name": "ipython",
    "version": 3
   },
   "file_extension": ".py",
   "mimetype": "text/x-python",
   "name": "python",
   "nbconvert_exporter": "python",
   "pygments_lexer": "ipython3",
   "version": "3.6.3"
  }
 },
 "nbformat": 4,
 "nbformat_minor": 2
}
